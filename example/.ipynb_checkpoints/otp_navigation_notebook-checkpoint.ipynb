{
 "cells": [
  {
   "cell_type": "markdown",
   "metadata": {},
   "source": [
    "## Rasta and OpenTripPlanner's REST API\n",
    "Rasta has a module to postprocess data for navigation coming from the REST API of OpenTrip Planner (OTP). To use this, you should have basic understanding of OTP and also a running server will be needed to retrieve the data. I documented the server part and OTP in general [here](https://ikespand.github.io/posts/OpenTripPlanner/)"
   ]
  },
  {
   "cell_type": "code",
   "execution_count": 8,
   "metadata": {},
   "outputs": [],
   "source": [
    "import sys\n",
    "import os\n",
    "import pandas as pd\n",
    "import numpy as np\n",
    "import pkg_resources"
   ]
  },
  {
   "cell_type": "markdown",
   "metadata": {},
   "source": [
    "Reconfirm that `keplergl_cli` you're using the keplergl_cli from a forked [GitHub](https://github.com/ikespand/keplergl_cli) instead of PyPi."
   ]
  },
  {
   "cell_type": "code",
   "execution_count": 9,
   "metadata": {
    "scrolled": false
   },
   "outputs": [
    {
     "name": "stdout",
     "output_type": "stream",
     "text": [
      "keplergl_cli is already installed... Checking version..\n",
      "Good to go :)\n"
     ]
    }
   ],
   "source": [
    "try:\n",
    "    import keplergl_cli\n",
    "    print(\"keplergl_cli is already installed... Checking version..\")\n",
    "    if not (pkg_resources.get_distribution('keplergl_cli').version == '0.3.3'):\n",
    "        !pip install git+https://github.com/ikespand/keplergl_cli\n",
    "    else:\n",
    "        print(\"Good to go :)\")\n",
    "except ModuleNotFoundError:\n",
    "    print(\"keplergl_cli is not available... Installing..\")\n",
    "    !pip install git+https://github.com/ikespand/keplergl_cli\n",
    "import keplergl_cli\n",
    "from rasta.navigate_with_otp import GetOtpRoute"
   ]
  },
  {
   "cell_type": "markdown",
   "metadata": {},
   "source": [
    "[Mapbox](https://account.mapbox.com/access-tokens/) is a company which provides the map tiles. To use it, you should have created the account there and receive an API key. Please remember, free service offers a generous amount of request which is more than enough for us.\n",
    "Here, I saved my API key inside the .bashrc (.zshenv in zshell, therefore, importing it directly. Alternatively, you can copy and paste it here directly."
   ]
  },
  {
   "cell_type": "code",
   "execution_count": 10,
   "metadata": {},
   "outputs": [],
   "source": [
    "MAPBOX_API_KEY = os. environ['MAPBOX_API_KEY'] \n",
    "# MAPBOX_API_KEY = \"MY_LONG_MAPBOX_API_KEY\""
   ]
  },
  {
   "cell_type": "markdown",
   "metadata": {},
   "source": [
    "As mention, `rasta.navigate_with_otp` is the module which was developed to process the responce from the OpenTripPlanner. Remember, that your server is running for the OTP and you are querying in a region of your running server. "
   ]
  },
  {
   "cell_type": "code",
   "execution_count": 11,
   "metadata": {},
   "outputs": [],
   "source": [
    "my_otp_nav = GetOtpRoute(\n",
    "    start_coord=\"28.658420, 77.250757\",\n",
    "    end_coord=\"28.658420, 77.270757\",\n",
    "    time=\"13:00:00\", # Optinal, if not provided then it uses the current time\n",
    "    date=\"2020/10/25\", # Optinal, if not provided then it uses the current date\n",
    "    MAPBOX_API_KEY=MAPBOX_API_KEY, # Necessary, only if you want to visualize in the map\n",
    "    output_map_path=\"temporary_map\", # To save the output kepler map\n",
    "    mode=\"TRANSIT,WALK\" # If not provided, then assuime the \" Transit and walk\"\n",
    ")"
   ]
  },
  {
   "cell_type": "code",
   "execution_count": 12,
   "metadata": {},
   "outputs": [
    {
     "name": "stdout",
     "output_type": "stream",
     "text": [
      "User Guide: https://docs.kepler.gl/docs/keplergl-jupyter\n",
      "Map saved to temporary_map_vis.html!\n"
     ]
    },
    {
     "name": "stderr",
     "output_type": "stream",
     "text": [
      "/Users/ikespand/anaconda3/envs/rasta/lib/python3.7/site-packages/geopandas/geodataframe.py:852: UserWarning: Geometry column does not contain geometry.\n",
      "  warnings.warn(\"Geometry column does not contain geometry.\")\n",
      "/Users/ikespand/anaconda3/envs/rasta/lib/python3.7/site-packages/geopandas/geodataframe.py:852: UserWarning: Geometry column does not contain geometry.\n",
      "  warnings.warn(\"Geometry column does not contain geometry.\")\n"
     ]
    }
   ],
   "source": [
    "gdf, html_path = my_otp_nav.extract_itinerary()"
   ]
  },
  {
   "cell_type": "code",
   "execution_count": 13,
   "metadata": {},
   "outputs": [
    {
     "name": "stdout",
     "output_type": "stream",
     "text": [
      "Number of proposed routes by OTP: 2\n",
      "Built query is: http://localhost:8080/otp/routers/default/plan?fromPlace=28.658420, 77.250757&toPlace=28.658420, 77.270757&time=13:00:00&date=2020/10/25&mode=TRANSIT,WALK\n"
     ]
    }
   ],
   "source": [
    "print(\"Number of proposed routes by OTP:\", len(gdf))\n",
    "print(\"Built query is:\", my_otp_nav.address) "
   ]
  },
  {
   "cell_type": "markdown",
   "metadata": {},
   "source": [
    "After having the output map, saved as HTML, we can also visualize directly inside the Jupyter. "
   ]
  },
  {
   "cell_type": "code",
   "execution_count": 14,
   "metadata": {
    "scrolled": false
   },
   "outputs": [
    {
     "data": {
      "application/vnd.jupyter.widget-view+json": {
       "model_id": "66a0bc8b975e45389bb968f29e2f43cd",
       "version_major": 2,
       "version_minor": 0
      },
      "text/plain": [
       "KeplerGl(config={'version': 'v1', 'config': {'visState': {'filters': [], 'layers': [], 'interactionConfig': {'…"
      ]
     },
     "metadata": {},
     "output_type": "display_data"
    }
   ],
   "source": [
    "# Increase the map height from default 400 to 600\n",
    "my_otp_nav.vis.map.height = 600 \n",
    "my_otp_nav.vis.map"
   ]
  },
  {
   "cell_type": "code",
   "execution_count": 15,
   "metadata": {},
   "outputs": [
    {
     "data": {
      "text/html": [
       "<div>\n",
       "<style scoped>\n",
       "    .dataframe tbody tr th:only-of-type {\n",
       "        vertical-align: middle;\n",
       "    }\n",
       "\n",
       "    .dataframe tbody tr th {\n",
       "        vertical-align: top;\n",
       "    }\n",
       "\n",
       "    .dataframe thead th {\n",
       "        text-align: right;\n",
       "    }\n",
       "</style>\n",
       "<table border=\"1\" class=\"dataframe\">\n",
       "  <thead>\n",
       "    <tr style=\"text-align: right;\">\n",
       "      <th></th>\n",
       "      <th>leg_mode</th>\n",
       "      <th>start_time</th>\n",
       "      <th>end_time</th>\n",
       "      <th>distance</th>\n",
       "      <th>duration</th>\n",
       "      <th>geometry</th>\n",
       "    </tr>\n",
       "  </thead>\n",
       "  <tbody>\n",
       "    <tr>\n",
       "      <th>0</th>\n",
       "      <td>WALK</td>\n",
       "      <td>2020-10-25 08:53:15</td>\n",
       "      <td>2020-10-25 08:56:34</td>\n",
       "      <td>381.007000</td>\n",
       "      <td>199.0</td>\n",
       "      <td>LINESTRING (77.24873 28.65806, 77.24875 28.657...</td>\n",
       "    </tr>\n",
       "    <tr>\n",
       "      <th>0</th>\n",
       "      <td>BUS</td>\n",
       "      <td>2020-10-25 08:56:35</td>\n",
       "      <td>2020-10-25 09:12:31</td>\n",
       "      <td>3990.618052</td>\n",
       "      <td>956.0</td>\n",
       "      <td>LINESTRING (77.24516 28.65782, 77.24580 28.649...</td>\n",
       "    </tr>\n",
       "    <tr>\n",
       "      <th>0</th>\n",
       "      <td>WALK</td>\n",
       "      <td>2020-10-25 09:12:31</td>\n",
       "      <td>2020-10-25 09:13:34</td>\n",
       "      <td>120.948000</td>\n",
       "      <td>63.0</td>\n",
       "      <td>LINESTRING (77.23870 28.62530, 77.23954 28.625...</td>\n",
       "    </tr>\n",
       "    <tr>\n",
       "      <th>0</th>\n",
       "      <td>BUS</td>\n",
       "      <td>2020-10-25 09:15:04</td>\n",
       "      <td>2020-10-25 09:46:09</td>\n",
       "      <td>7784.246432</td>\n",
       "      <td>1865.0</td>\n",
       "      <td>LINESTRING (77.23970 28.62550, 77.24514 28.628...</td>\n",
       "    </tr>\n",
       "    <tr>\n",
       "      <th>0</th>\n",
       "      <td>WALK</td>\n",
       "      <td>2020-10-25 09:46:10</td>\n",
       "      <td>2020-10-25 09:47:33</td>\n",
       "      <td>155.142000</td>\n",
       "      <td>83.0</td>\n",
       "      <td>LINESTRING (77.27215 28.65857, 77.27213 28.658...</td>\n",
       "    </tr>\n",
       "  </tbody>\n",
       "</table>\n",
       "</div>"
      ],
      "text/plain": [
       "  leg_mode           start_time             end_time     distance  duration  \\\n",
       "0     WALK  2020-10-25 08:53:15  2020-10-25 08:56:34   381.007000     199.0   \n",
       "0      BUS  2020-10-25 08:56:35  2020-10-25 09:12:31  3990.618052     956.0   \n",
       "0     WALK  2020-10-25 09:12:31  2020-10-25 09:13:34   120.948000      63.0   \n",
       "0      BUS  2020-10-25 09:15:04  2020-10-25 09:46:09  7784.246432    1865.0   \n",
       "0     WALK  2020-10-25 09:46:10  2020-10-25 09:47:33   155.142000      83.0   \n",
       "\n",
       "                                            geometry  \n",
       "0  LINESTRING (77.24873 28.65806, 77.24875 28.657...  \n",
       "0  LINESTRING (77.24516 28.65782, 77.24580 28.649...  \n",
       "0  LINESTRING (77.23870 28.62530, 77.23954 28.625...  \n",
       "0  LINESTRING (77.23970 28.62550, 77.24514 28.628...  \n",
       "0  LINESTRING (77.27215 28.65857, 77.27213 28.658...  "
      ]
     },
     "execution_count": 15,
     "metadata": {},
     "output_type": "execute_result"
    }
   ],
   "source": [
    "# Show one of the route in df\n",
    "gdf[0].head()"
   ]
  },
  {
   "cell_type": "code",
   "execution_count": null,
   "metadata": {},
   "outputs": [],
   "source": []
  }
 ],
 "metadata": {
  "kernelspec": {
   "display_name": "Python 3",
   "language": "python",
   "name": "python3"
  },
  "language_info": {
   "codemirror_mode": {
    "name": "ipython",
    "version": 3
   },
   "file_extension": ".py",
   "mimetype": "text/x-python",
   "name": "python",
   "nbconvert_exporter": "python",
   "pygments_lexer": "ipython3",
   "version": "3.7.9"
  }
 },
 "nbformat": 4,
 "nbformat_minor": 4
}
